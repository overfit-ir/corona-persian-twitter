{
 "cells": [
  {
   "cell_type": "markdown",
   "metadata": {
    "heading_collapsed": true
   },
   "source": [
    "# Setup"
   ]
  },
  {
   "cell_type": "code",
   "execution_count": null,
   "metadata": {
    "hidden": true
   },
   "outputs": [],
   "source": [
    "# %config Completer.use_jedi = False"
   ]
  },
  {
   "cell_type": "code",
   "execution_count": 31,
   "metadata": {
    "colab": {
     "base_uri": "https://localhost:8080/"
    },
    "hidden": true,
    "id": "TicvmGLp3AwW",
    "outputId": "44e5d80f-816b-4b3c-c0b7-ebd31233936c"
   },
   "outputs": [],
   "source": [
    "import tweepy\n",
    "import accounts\n",
    "import simplejson as json\n",
    "import glob\n",
    "import operator"
   ]
  },
  {
   "cell_type": "code",
   "execution_count": 4,
   "metadata": {
    "hidden": true
   },
   "outputs": [],
   "source": [
    "twitter_accounts = accounts.twitter_accounts\n",
    "consumer_key = twitter_accounts[0]['consumer_key']\n",
    "consumer_key_secret = twitter_accounts[0]['consumer_key_secret']\n",
    "access_token = twitter_accounts[0]['access_token']\n",
    "access_token_secret = twitter_accounts[0]['access_token_secret']"
   ]
  },
  {
   "cell_type": "code",
   "execution_count": 5,
   "metadata": {
    "hidden": true
   },
   "outputs": [],
   "source": [
    "auth = tweepy.OAuthHandler(consumer_key, consumer_key_secret)\n",
    "auth.set_access_token(access_token, access_token_secret)\n",
    "api = tweepy.API(auth)"
   ]
  },
  {
   "cell_type": "code",
   "execution_count": 71,
   "metadata": {},
   "outputs": [],
   "source": [
    "all_users = []\n",
    "with open(\"korona.txt\") as file:\n",
    "    for line in file:\n",
    "        all_users.append(line.strip())"
   ]
  },
  {
   "cell_type": "code",
   "execution_count": 72,
   "metadata": {
    "tags": []
   },
   "outputs": [
    {
     "output_type": "stream",
     "name": "stdout",
     "text": [
      "query_results/korona/tweets_#کرونا_200_top\n",
      "query_results/korona/tweets_#کرونا_50_latest\n",
      "query_results/korona/tweets_#کرونا_200_latest\n",
      "query_results/korona/tweets_#کرونا_500_top\n",
      "query_results/korona/tweets_#کرونا_500_latest\n",
      "query_results/korona/tweets_#کرونا_1000_latest\n",
      "query_results/korona/tweets_#کرونا_100_top\n",
      "query_results/korona/tweets_#کرونا_50_top\n",
      "query_results/korona/tweets_#کرونا_1000_top\n",
      "query_results/korona/tweets_#کرونا_100_latest\n"
     ]
    }
   ],
   "source": [
    "users_followers = set()\n",
    "users_only = set()\n",
    "for file_name in glob.glob(\"query_results/korona/*\"):\n",
    "    print(file_name)\n",
    "    with open(file_name) as json_file:\n",
    "        users = json.load(json_file)['globalObjects']['users']\n",
    "        for key,user in users.items():\n",
    "            if user['screen_name'] in all_users and not(user['screen_name'] in users_only):\n",
    "                users_only.add(user['screen_name'])\n",
    "                users_followers.add((user['screen_name'],user['followers_count']))\n",
    "users_followers = list(users_followers)"
   ]
  },
  {
   "cell_type": "code",
   "execution_count": 73,
   "metadata": {
    "tags": []
   },
   "outputs": [],
   "source": [
    "users_followers.sort(key=operator.itemgetter(1), reverse=True)"
   ]
  },
  {
   "cell_type": "code",
   "execution_count": 75,
   "metadata": {},
   "outputs": [
    {
     "output_type": "execute_result",
     "data": {
      "text/plain": [
       "1703"
      ]
     },
     "metadata": {},
     "execution_count": 75
    }
   ],
   "source": [
    "len(users_followers)"
   ]
  },
  {
   "cell_type": "code",
   "execution_count": 76,
   "metadata": {},
   "outputs": [],
   "source": [
    "with open('korona+.txt', 'w') as fp:\n",
    "    fp.write('\\n'.join(x[0]+\"\\n \"+str(x[1]) for x in users_followers))"
   ]
  },
  {
   "cell_type": "code",
   "execution_count": null,
   "metadata": {},
   "outputs": [],
   "source": []
  }
 ],
 "metadata": {
  "colab": {
   "include_colab_link": true,
   "name": "tempo.ipynb",
   "provenance": [],
   "toc_visible": true
  },
  "kernelspec": {
   "name": "twtenv",
   "display_name": "twtenv",
   "language": "python"
  },
  "language_info": {
   "codemirror_mode": {
    "name": "ipython",
    "version": 3
   },
   "file_extension": ".py",
   "mimetype": "text/x-python",
   "name": "python",
   "nbconvert_exporter": "python",
   "pygments_lexer": "ipython3",
   "version": "3.9.1-final"
  },
  "toc": {
   "base_numbering": 1,
   "nav_menu": {},
   "number_sections": true,
   "sideBar": true,
   "skip_h1_title": false,
   "title_cell": "Table of Contents",
   "title_sidebar": "Contents",
   "toc_cell": false,
   "toc_position": {},
   "toc_section_display": true,
   "toc_window_display": false
  }
 },
 "nbformat": 4,
 "nbformat_minor": 1
}