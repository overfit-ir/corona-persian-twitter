{
  "nbformat": 4,
  "nbformat_minor": 0,
  "metadata": {
    "colab": {
      "name": "tempo.ipynb",
      "provenance": [],
      "toc_visible": true,
      "include_colab_link": true
    },
    "kernelspec": {
      "name": "python3",
      "display_name": "Python 3"
    }
  },
  "cells": [
    {
      "cell_type": "markdown",
      "metadata": {
        "id": "view-in-github",
        "colab_type": "text"
      },
      "source": [
        "<a href=\"https://colab.research.google.com/github/AliAkbarBadri/MS-Thesis/blob/main/network_parameters.ipynb\" target=\"_parent\"><img src=\"https://colab.research.google.com/assets/colab-badge.svg\" alt=\"Open In Colab\"/></a>"
      ]
    },
    {
      "cell_type": "markdown",
      "metadata": {
        "id": "ONai9Pw2PJCy"
      },
      "source": [
        "# Setuping"
      ]
    },
    {
      "cell_type": "code",
      "metadata": {
        "id": "nF-7m57sBgdp"
      },
      "source": [
        "import pandas as pd\n",
        "import networkx as nx\n",
        "import scipy.io\n",
        "import matplotlib.pyplot as plt\n",
        "import collections\n",
        "import numpy as np\n",
        "from collections import Counter\n",
        "import itertools\n",
        "from numpy.linalg import matrix_power\n",
        "import random\n",
        "import sys"
      ],
      "execution_count": 2,
      "outputs": []
    },
    {
      "cell_type": "code",
      "metadata": {
        "id": "TicvmGLp3AwW",
        "outputId": "44e5d80f-816b-4b3c-c0b7-ebd31233936c",
        "colab": {
          "base_uri": "https://localhost:8080/"
        }
      },
      "source": [
        "from google.colab import drive\n",
        "drive.mount('/content/drive')"
      ],
      "execution_count": 3,
      "outputs": [
        {
          "output_type": "stream",
          "text": [
            "Drive already mounted at /content/drive; to attempt to forcibly remount, call drive.mount(\"/content/drive\", force_remount=True).\n"
          ],
          "name": "stdout"
        }
      ]
    },
    {
      "cell_type": "markdown",
      "metadata": {
        "id": "omG6JcCMPGLO"
      },
      "source": [
        "# Reading Data"
      ]
    },
    {
      "cell_type": "code",
      "metadata": {
        "colab": {
          "base_uri": "https://localhost:8080/"
        },
        "id": "mMTjkoHeOQbX",
        "outputId": "b6ba2ca0-dc2a-4ecc-b3b4-9558b329a9d5"
      },
      "source": [
        "G = nx.read_graphml(\"/content/drive/MyDrive/thesis/g.graphml\")\n",
        "print(G.number_of_nodes())\n",
        "print(G.number_of_edges())"
      ],
      "execution_count": 4,
      "outputs": [
        {
          "output_type": "stream",
          "text": [
            "3795\n",
            "7729\n"
          ],
          "name": "stdout"
        }
      ]
    },
    {
      "cell_type": "markdown",
      "metadata": {
        "id": "cre7Gzc9QPM8"
      },
      "source": [
        "# Plotting Degree Distribution\n",
        "\n",
        "http://snap.stanford.edu/class/cs224w-2012/nx_tutorial.pdf"
      ]
    },
    {
      "cell_type": "code",
      "metadata": {
        "colab": {
          "base_uri": "https://localhost:8080/",
          "height": 299
        },
        "id": "vVcJaV06Rolj",
        "outputId": "541302e1-d178-490e-ee23-9fe1da94b637"
      },
      "source": [
        "degs = {}\n",
        "for n in G.nodes():\n",
        "  deg = G.degree(n) \n",
        "  if deg not in degs:\n",
        "    degs[deg] = 0 \n",
        "  degs[deg] += 1\n",
        "items = sorted(degs.items())\n",
        "\n",
        "fig = plt.figure()\n",
        "ax = fig.add_subplot(111)\n",
        "ax.plot([k for (k,v) in items], [v for (k,v) in items]) \n",
        "ax.set_xlabel(\"log degree\")\n",
        "ax.set_ylabel(\"log frequency\")\n",
        "ax.set_xscale('log') \n",
        "ax.set_yscale('log')\n",
        "plt.title(\"Degree Distribution\")\n",
        "plt.show()\n",
        "\n",
        "# fig.savefig(\"degree_distribution.png\")"
      ],
      "execution_count": 9,
      "outputs": [
        {
          "output_type": "display_data",
          "data": {
            "image/png": "[encoded data removed]",
            "text/plain": [
              "<Figure size 432x288 with 1 Axes>"
            ]
          },
          "metadata": {
            "tags": [],
            "needs_background": "light"
          }
        }
      ]
    },
    {
      "cell_type": "markdown",
      "metadata": {
        "id": "LwB9Be82g715"
      },
      "source": [
        "# Global clustering coefficient"
      ]
    },
    {
      "cell_type": "code",
      "metadata": {
        "id": "WGBLO7Fq4g9q",
        "outputId": "a1b0d7ad-4c8f-4787-fadf-b120dce2897c",
        "colab": {
          "base_uri": "https://localhost:8080/"
        }
      },
      "source": [
        "nx.transitivity(G)"
      ],
      "execution_count": 19,
      "outputs": [
        {
          "output_type": "execute_result",
          "data": {
            "text/plain": [
              "0.06418014663097871"
            ]
          },
          "metadata": {
            "tags": []
          },
          "execution_count": 19
        }
      ]
    }
  ]
}