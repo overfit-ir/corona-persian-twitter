{
 "metadata": {
  "language_info": {
   "codemirror_mode": {
    "name": "ipython",
    "version": 3
   },
   "file_extension": ".py",
   "mimetype": "text/x-python",
   "name": "python",
   "nbconvert_exporter": "python",
   "pygments_lexer": "ipython3",
   "version": "3.9.0-final"
  },
  "orig_nbformat": 2,
  "kernelspec": {
   "name": "python36364bite780e7be5cf64e2db9b015be6a759596",
   "display_name": "Python 3.6.3 64-bit",
   "language": "python"
  }
 },
 "nbformat": 4,
 "nbformat_minor": 2,
 "cells": [
  {
   "cell_type": "code",
   "execution_count": 3,
   "metadata": {},
   "outputs": [],
   "source": [
    "import selenium\n",
    "from selenium import webdriver\n",
    "import time\n",
    "\n",
    "\n",
    "driver = webdriver.Firefox()\n"
   ]
  },
  {
   "cell_type": "code",
   "execution_count": 2,
   "metadata": {},
   "outputs": [],
   "source": [
    "\n",
    "from selenium import webdriver \n",
    "username = 'lqkmxwm@hi2.in'\n",
    "password = 'miladaliakbar'\n",
    "url = 'https://twitter.com/login/error?username_or_email=' + username\n",
    "# driver.get(\"https://twitter.com/login\") \n",
    "driver.get(url)\n",
    "  \n",
    "# driver.find_element_by_xpath(\"//input[contains(text(),'username')]\").send_keys('milad.mr95@gmail.com')\n",
    "driver.find_element_by_xpath(\"//input[contains(@name,'password')]\").send_keys(password)\n",
    "driver.find_element_by_xpath(\"//div[contains(string(),'Log in')]\").click()\n",
    "time.sleep(5)\n"
   ]
  },
  {
   "cell_type": "code",
   "execution_count": 8,
   "metadata": {},
   "outputs": [],
   "source": [
    "\n",
    "url = 'https://twitter.com/artingarmsirii/status/1361312811696205827'\n",
    "driver.get(url)\n",
    "\n",
    "time.sleep(8)"
   ]
  },
  {
   "cell_type": "code",
   "execution_count": 13,
   "metadata": {},
   "outputs": [
    {
     "output_type": "stream",
     "name": "stdout",
     "text": [
      "Likes\n"
     ]
    }
   ],
   "source": [
    "\n",
    "\n",
    "#click on like button\n",
    "\n",
    "\n",
    "# like_button = driver.find_element_by_xpath(\"//div[text()='Likes']\")\n",
    "like_button = driver.find_element_by_xpath('//*[contains(text(), \"Likes\")]')\n",
    "# like_button = like_button.find_element_by_xpath('..')\n",
    "print(like_button.text)\n",
    "like_button.click()\n"
   ]
  },
  {
   "cell_type": "code",
   "execution_count": 14,
   "metadata": {
    "tags": []
   },
   "outputs": [
    {
     "output_type": "stream",
     "name": "stdout",
     "text": [
      "0\n",
      "0\n",
      "0\n",
      "0\n",
      "0\n",
      "0\n",
      "0\n",
      "0\n",
      "0\n",
      "0 set()\n"
     ]
    }
   ],
   "source": [
    "from bs4 import BeautifulSoup\n",
    "html = driver.page_source\n",
    "\n",
    "soup = BeautifulSoup(html, \"html.parser\")\n",
    "\n",
    "# print(soup.body.find('span'))\n",
    "import re\n",
    "# follow_soups = soup.find_all('div', string='Follow')#text='Follow')\n",
    "# print(len(follow_soups), follow_soups[0]) \n",
    "# # print(follow_soups[0].parent)\n",
    "# print(follow_soups[3].previous_sibling)\n",
    "driver.set_window_size(500, 1000)\n",
    "pos = 0\n",
    "speed = 700\n",
    "likers_usernames = set()\n",
    "while pos < 6000:\n",
    "    driver.execute_script(\"window.scrollTo(\"+str(pos)+\", \" +str(pos+speed)+\")\") \n",
    "    pos = pos+speed\n",
    "    html = driver.page_source\n",
    "    soup = BeautifulSoup(html, \"html.parser\")\n",
    "    follow_soups = soup.find_all('div', string='Follow')#text='Follow')\n",
    "    for i in range(0, len(follow_soups), 3):\n",
    "        name = follow_soups[i].previous_sibling.a.div.div\n",
    "        username = name.next_sibling.text\n",
    "        name = name.text\n",
    "        likers_usernames.add(username)\n",
    "    print(len(likers_usernames))\n",
    "print(len(likers_usernames), likers_usernames)\n",
    "# print(follow_soups[1].previous_sibling.find_all('span'))\n",
    "# print(follow_soups[1])\n",
    "# print(soup.findAll(string='asd'))"
   ]
  },
  {
   "cell_type": "code",
   "execution_count": 15,
   "metadata": {},
   "outputs": [],
   "source": [
    "# coockies_old = driver.get_cookies()\n",
    "# print(coockies_old)\n",
    "# driver2 = webdriver.Firefox()\n",
    "# for cookie in coockies:\n",
    "#     driver2.add_cookie(cookie)\n",
    "# driver2.get(url)\n",
    "# print(coockies_old)\n",
    "# print(coockies)\n",
    "# # logined_coockies = coockies"
   ]
  }
 ]
}