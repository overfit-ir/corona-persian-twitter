{
  "nbformat": 4,
  "nbformat_minor": 0,
  "metadata": {
    "colab": {
      "name": "tempo.ipynb",
      "provenance": [],
      "toc_visible": true,
      "include_colab_link": true
    },
    "kernelspec": {
      "name": "twtenv",
      "display_name": "twtenv",
      "language": "python"
    }
  },
  "cells": [
    {
      "source": [
        "# Setup"
      ],
      "cell_type": "markdown",
      "metadata": {}
    },
    {
      "cell_type": "code",
      "metadata": {
        "id": "nF-7m57sBgdp"
      },
      "source": [
        "import json"
      ],
      "execution_count": 10,
      "outputs": []
    },
    {
      "cell_type": "code",
      "execution_count": 11,
      "metadata": {},
      "outputs": [
        {
          "output_type": "execute_result",
          "data": {
            "text/plain": [
              "2732"
            ]
          },
          "metadata": {},
          "execution_count": 11
        }
      ],
      "source": [
        "users = []\n",
        "with open('../data/users.json') as json_file:\n",
        "    data = json.load(json_file)\n",
        "    users = data[\"all\"]\n",
        "len(users)"
      ]
    },
    {
      "cell_type": "code",
      "execution_count": 12,
      "metadata": {},
      "outputs": [
        {
          "output_type": "stream",
          "name": "stdout",
          "text": [
            "['0joelando', '0RMAND0', '0zeynab0_0', '0zHDZdo0yz9GwaN', '00KavirSC']\n['zobeydeyemamad', 'zoheirmousavi', 'zohreh_zk', 'zonnoour', 'zynab313']\n"
          ]
        }
      ],
      "source": [
        "print(users[:5])\n",
        "print(users[-5:])"
      ]
    }
  ]
}