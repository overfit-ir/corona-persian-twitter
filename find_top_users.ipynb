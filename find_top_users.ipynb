{
 "cells": [
  {
   "cell_type": "markdown",
   "metadata": {
    "heading_collapsed": true
   },
   "source": [
    "# Setup"
   ]
  },
  {
   "cell_type": "code",
   "execution_count": 1,
   "metadata": {
    "hidden": true
   },
   "outputs": [],
   "source": [
    "%config Completer.use_jedi = False"
   ]
  },
  {
   "cell_type": "code",
   "execution_count": 5,
   "metadata": {
    "colab": {
     "base_uri": "https://localhost:8080/"
    },
    "hidden": true,
    "id": "TicvmGLp3AwW",
    "outputId": "44e5d80f-816b-4b3c-c0b7-ebd31233936c"
   },
   "outputs": [],
   "source": [
    "import tweepy\n",
    "from inputs import accounts"
   ]
  },
  {
   "cell_type": "code",
   "execution_count": 6,
   "metadata": {
    "hidden": true
   },
   "outputs": [],
   "source": [
    "twitter_accounts = accounts.twitter_accounts\n",
    "consumer_key = twitter_accounts[0]['consumer_key']\n",
    "consumer_key_secret = twitter_accounts[0]['consumer_key_secret']\n",
    "access_token = twitter_accounts[0]['access_token']\n",
    "access_token_secret = twitter_accounts[0]['access_token_secret']"
   ]
  },
  {
   "cell_type": "code",
   "execution_count": 7,
   "metadata": {
    "hidden": true
   },
   "outputs": [],
   "source": [
    "auth = tweepy.OAuthHandler(consumer_key, consumer_key_secret)\n",
    "auth.set_access_token(access_token, access_token_secret)\n",
    "api = tweepy.API(auth)"
   ]
  },
  {
   "cell_type": "markdown",
   "metadata": {
    "id": "omG6JcCMPGLO"
   },
   "source": [
    "# Reading Data"
   ]
  },
  {
   "cell_type": "code",
   "execution_count": 8,
   "metadata": {},
   "outputs": [],
   "source": [
    "users_seen_count = dict()\n",
    "users = dict()\n",
    "tweets = dict()\n",
    "latest_id = 2345871337164779521"
   ]
  },
  {
   "cell_type": "code",
   "execution_count": 9,
   "metadata": {},
   "outputs": [],
   "source": [
    "FOLLOWERS_MIN = 1000\n",
    "NUMBER_OF_USERS_MIN = 100"
   ]
  },
  {
   "cell_type": "code",
   "execution_count": 10,
   "metadata": {},
   "outputs": [],
   "source": [
    "def get_user(tweet):\n",
    "    user = {}\n",
    "    if tweet._json.get('retweeted_status'):\n",
    "        user = tweet._json['retweeted_status']['user']\n",
    "    else:\n",
    "        user = tweet._json['user']\n",
    "    return user"
   ]
  },
  {
   "cell_type": "code",
   "execution_count": 29,
   "metadata": {},
   "outputs": [],
   "source": [
    "saerched_tweets = api.search(q='min_faves:500 #واكسن_میسازیم', count=500,\n",
    "                                 result_type='recent', lang=\"fa\")"
   ]
  },
  {
   "cell_type": "code",
   "execution_count": 36,
   "metadata": {},
   "outputs": [
    {
     "data": {
      "text/plain": [
       "'yarrahimehdi'"
      ]
     },
     "execution_count": 36,
     "metadata": {},
     "output_type": "execute_result"
    }
   ],
   "source": [
    "saerched_tweets[0]._json['user']['screen_name']"
   ]
  },
  {
   "cell_type": "code",
   "execution_count": 38,
   "metadata": {},
   "outputs": [
    {
     "data": {
      "text/plain": [
       "'روح و جسم #مهرداد_میناوند سالها قبل از ظهور کرونا پژمرد!\\n او ابتدا یکی از مظلومانِ تعرض به حریم خصوصی\\u200cست و آن گاه ی… https://t.co/iwcnloY5zx'"
      ]
     },
     "execution_count": 38,
     "metadata": {},
     "output_type": "execute_result"
    }
   ],
   "source": [
    "saerched_tweets[0]._json['text']"
   ]
  },
  {
   "cell_type": "markdown",
   "metadata": {},
   "source": [
    "user_set = set()\n",
    "for tweet in saerched_tweets:\n",
    "    id = tweet._json['id']\n",
    "    latest_id = id\n",
    "    user = get_user(tweet)\n",
    "    user_set.add(user['screen_name'])\n",
    "user_set"
   ]
  },
  {
   "cell_type": "code",
   "execution_count": 28,
   "metadata": {},
   "outputs": [
    {
     "data": {
      "text/plain": [
       "{'FarsNews_Agency',\n",
       " 'IranIntl',\n",
       " 'IranIntlbrk',\n",
       " 'IranNewspaper',\n",
       " 'IsraelPersian',\n",
       " 'ManotoNews',\n",
       " 'PersepolisFC',\n",
       " 'SharghDaily',\n",
       " 'abdollahram',\n",
       " 'bbcpersian',\n",
       " 'kambizhosseini'}"
      ]
     },
     "execution_count": 28,
     "metadata": {},
     "output_type": "execute_result"
    }
   ],
   "source": [
    "user_set = set()\n",
    "for tweet in saerched_tweets:\n",
    "    id = tweet._json['id']\n",
    "    latest_id = id\n",
    "    user = get_user(tweet)\n",
    "    user_set.add(user['screen_name'])\n",
    "user_set"
   ]
  },
  {
   "cell_type": "code",
   "execution_count": null,
   "metadata": {},
   "outputs": [],
   "source": [
    "print(sorted(users_seen_count.items(), key=lambda item: item[1])[-10:])"
   ]
  },
  {
   "cell_type": "markdown",
   "metadata": {
    "heading_collapsed": true
   },
   "source": [
    "# check users"
   ]
  },
  {
   "cell_type": "code",
   "execution_count": 16,
   "metadata": {
    "hidden": true
   },
   "outputs": [],
   "source": [
    "temp_users = []"
   ]
  },
  {
   "cell_type": "code",
   "execution_count": 21,
   "metadata": {
    "hidden": true,
    "tags": []
   },
   "outputs": [],
   "source": [
    "counter = 0\n",
    "for k, value in users.items():\n",
    "    # print(value)\n",
    "    # break\n",
    "    if value['followers_count'] > 1000:\n",
    "        counter += 1\n",
    "        temp_users.append(value['screen_name'])\n",
    "#         print(value['screen_name'])#, value['followers_count'])"
   ]
  },
  {
   "cell_type": "code",
   "execution_count": 22,
   "metadata": {
    "hidden": true
   },
   "outputs": [
    {
     "data": {
      "text/plain": [
       "103"
      ]
     },
     "execution_count": 22,
     "metadata": {},
     "output_type": "execute_result"
    }
   ],
   "source": [
    "counter"
   ]
  },
  {
   "cell_type": "markdown",
   "metadata": {
    "heading_collapsed": true
   },
   "source": [
    "# check tweets"
   ]
  },
  {
   "cell_type": "code",
   "execution_count": 28,
   "metadata": {
    "hidden": true
   },
   "outputs": [
    {
     "name": "stdout",
     "output_type": "stream",
     "text": [
      "0\n"
     ]
    }
   ],
   "source": [
    "for k, value in tweets.items():\n",
    "    print(value._json['favorite_count'])\n",
    "    # print(value._json['text'])\n",
    "    # print(value._json['retweet_count'])\n",
    "    # print(value._json['retweet_count'])\n",
    "    break"
   ]
  },
  {
   "cell_type": "code",
   "execution_count": 26,
   "metadata": {
    "hidden": true
   },
   "outputs": [
    {
     "ename": "KeyError",
     "evalue": "0",
     "output_type": "error",
     "traceback": [
      "\u001b[0;31m---------------------------------------------------------------------------\u001b[0m",
      "\u001b[0;31mKeyError\u001b[0m                                  Traceback (most recent call last)",
      "\u001b[0;32m<ipython-input-26-a09f3bb64705>\u001b[0m in \u001b[0;36m<module>\u001b[0;34m\u001b[0m\n\u001b[0;32m----> 1\u001b[0;31m \u001b[0mtweets\u001b[0m\u001b[0;34m[\u001b[0m\u001b[0;36m0\u001b[0m\u001b[0;34m]\u001b[0m\u001b[0;34m\u001b[0m\u001b[0;34m\u001b[0m\u001b[0m\n\u001b[0m",
      "\u001b[0;31mKeyError\u001b[0m: 0"
     ]
    }
   ],
   "source": [
    "tweets"
   ]
  },
  {
   "cell_type": "markdown",
   "metadata": {
    "heading_collapsed": true
   },
   "source": [
    "# temp"
   ]
  },
  {
   "cell_type": "code",
   "execution_count": null,
   "metadata": {
    "hidden": true
   },
   "outputs": [],
   "source": [
    "len(temp_users)"
   ]
  },
  {
   "cell_type": "code",
   "execution_count": null,
   "metadata": {
    "hidden": true
   },
   "outputs": [],
   "source": [
    "temp_tweets = []"
   ]
  },
  {
   "cell_type": "code",
   "execution_count": null,
   "metadata": {
    "hidden": true
   },
   "outputs": [],
   "source": [
    "for user in temp_users[:10]:\n",
    "    temp_tweets.append(api.search('کرونا (from:{})'.format(user), count=500, result_type='recent'))"
   ]
  },
  {
   "cell_type": "code",
   "execution_count": null,
   "metadata": {
    "hidden": true
   },
   "outputs": [],
   "source": [
    "import pprint as pprint"
   ]
  },
  {
   "cell_type": "code",
   "execution_count": null,
   "metadata": {
    "hidden": true,
    "tags": []
   },
   "outputs": [],
   "source": [
    "for t in temp_tweets:\n",
    "    # print(temp_users[0])\n",
    "    # pprint.pprint((t[3]._json))\n",
    "    print([(x._json['favorite_count']) for x in t])\n",
    "    # break"
   ]
  },
  {
   "cell_type": "code",
   "execution_count": null,
   "metadata": {
    "hidden": true
   },
   "outputs": [],
   "source": []
  }
 ],
 "metadata": {
  "colab": {
   "include_colab_link": true,
   "name": "tempo.ipynb",
   "provenance": [],
   "toc_visible": true
  },
  "kernelspec": {
   "display_name": "twtenv",
   "language": "python",
   "name": "twtenv"
  },
  "language_info": {
   "codemirror_mode": {
    "name": "ipython",
    "version": 3
   },
   "file_extension": ".py",
   "mimetype": "text/x-python",
   "name": "python",
   "nbconvert_exporter": "python",
   "pygments_lexer": "ipython3",
   "version": "3.9.1"
  },
  "toc": {
   "base_numbering": 1,
   "nav_menu": {},
   "number_sections": true,
   "sideBar": true,
   "skip_h1_title": false,
   "title_cell": "Table of Contents",
   "title_sidebar": "Contents",
   "toc_cell": false,
   "toc_position": {},
   "toc_section_display": true,
   "toc_window_display": false
  }
 },
 "nbformat": 4,
 "nbformat_minor": 1
}
